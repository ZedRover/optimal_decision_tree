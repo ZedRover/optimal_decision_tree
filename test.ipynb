{
 "cells": [
  {
   "cell_type": "code",
   "execution_count": null,
   "metadata": {},
   "outputs": [],
   "source": [
    "using DataFrames, CSV\n",
    "using Random, Distributions, StatsBase\n",
    "using Plots\n",
    "using MLDataUtils, Clustering\n",
    "using Distributed, SharedArrays"
   ]
  },
  {
   "cell_type": "code",
   "execution_count": null,
   "metadata": {},
   "outputs": [],
   "source": [
    "@everywhere begin\n",
    "    if !(\"src/\" in LOAD_PATH)\n",
    "        push!(LOAD_PATH, \"src/\")\n",
    "    end    \n",
    "end \n",
    "@everywhere begin\n",
    "    if !(\"test/\" in LOAD_PATH)\n",
    "        push!(LOAD_PATH, \"test/\")\n",
    "    end\n",
    "end"
   ]
  },
  {
   "cell_type": "code",
   "execution_count": null,
   "metadata": {},
   "outputs": [],
   "source": [
    "using TimerOutputs: @timeit, get_timer\n",
    "\n",
    "using  Trees,  bound,  parallel,  Nodes\n",
    "using  opt_func,  ub_func,  lb_func,  bb_func,  data_process\n",
    "using groups"
   ]
  },
  {
   "cell_type": "code",
   "execution_count": null,
   "metadata": {},
   "outputs": [],
   "source": [
    "D = 2 # 2 # \n",
    "LB_method = \"CF+MILP+SG\" \n",
    "seed = 1 # \n",
    "scheme = \"sl\"\n",
    "dataname = \"toy\"\n",
    "if dataname == \"toy\"\n",
    "    nclst = 3 # parse(Int, ARGS[6]) \n",
    "    clst_n = 50 #parse(Int, ARGS[7])\n",
    "    d = 2 # parse(Int, ARGS[8])\n",
    "elseif dataname == \"iris\"\n",
    "    datapackage = \"datasets\"\n",
    "else\n",
    "    datapackage = \"nothing\" # ARGS[6] # \n",
    "end\n",
    "\n",
    "if scheme == \"par\"\n",
    "    using MPI\n",
    "    parallel.init()\n",
    "end"
   ]
  },
  {
   "cell_type": "code",
   "execution_count": null,
   "metadata": {},
   "outputs": [],
   "source": [
    "data = read_data(\"small_toy\", \"nothing\")"
   ]
  },
  {
   "cell_type": "code",
   "execution_count": null,
   "metadata": {},
   "outputs": [],
   "source": []
  },
  {
   "cell_type": "code",
   "execution_count": null,
   "metadata": {},
   "outputs": [],
   "source": [
    "parallel.create_world()\n",
    "parallel.root_println(\"Running $(parallel.nprocs()) processes.\")\n",
    "parallel.root_println(\"Start training $dataname with seed $seed.\")"
   ]
  },
  {
   "cell_type": "code",
   "execution_count": null,
   "metadata": {},
   "outputs": [],
   "source": [
    "if dataname == \"toy\"\n",
    "    data, lbl, K = read_data(dataname, clst_n=clst_n, nclst=nclst, d=d)\n",
    "else\n",
    "    data, lbl, K = read_data(dataname; datapackage=datapackage)\n",
    "end"
   ]
  },
  {
   "cell_type": "code",
   "execution_count": null,
   "metadata": {},
   "outputs": [],
   "source": [
    "println(size(data))\n",
    "Random.seed!(seed)\n",
    "train, valid, test = stratifiedobs((view(data,:,:), lbl), (0.5, 0.25))\n",
    "tr_x, tr_y = train\n",
    "va_x, va_y = valid\n",
    "te_x, te_y = test\n",
    "lbl = Int.(lbl)\n",
    "parallel.root_println(size(tr_x))\n",
    "parallel.root_println(size(va_x))\n",
    "parallel.root_println(size(te_x))\n",
    "L_hat = maximum(counts(lbl))/length(lbl)\n",
    "alp = 0.05 #alpha # parameter of complexity of the tree\n",
    "\n",
    "X = Matrix(hcat(tr_x, va_x)) # Matrix(tr_x) # Matrix(data) # \n",
    "y = Vector(vcat(tr_y, va_y)) # Vector(tr_y) # lbl # \n",
    "y = Int.(y)\n",
    "Y_g = opt_func.label_bin(y, K, \"glb\")\n",
    "Y = Y_g # setup global Y for label binarization\n",
    "Y_d = opt_func.label_bin(y, K, \"dim\")\n",
    "p,n = size(X)\n",
    "println(\"dimension: $p, class: $K\")\n",
    "time_w = @elapsed tree_w, objv_w = CART_base(X, Y_g, K, D, alp, L_hat)\n",
    "println(\"cart cost: $objv_w\")"
   ]
  },
  {
   "cell_type": "code",
   "execution_count": null,
   "metadata": {},
   "outputs": [],
   "source": [
    "K = parallel.bcast(K)\n",
    "alp = parallel.bcast(alp)\n",
    "L_hat = parallel.bcast(L_hat)\n",
    "objv_w = parallel.bcast(objv_w)\n",
    "tree_w = parallel.bcast(tree_w)"
   ]
  },
  {
   "cell_type": "code",
   "execution_count": null,
   "metadata": {},
   "outputs": [],
   "source": [
    "tree_plot(tree_w, \"tree_w.png\")"
   ]
  },
  {
   "cell_type": "code",
   "execution_count": null,
   "metadata": {},
   "outputs": [],
   "source": [
    "# branch_bound(X, Y_g, K, D, tree_w, objv_w, alp, L_hat, LB_method, true, false)\n",
    "X, Y, K, D, warm_start, UB_init, alpha, L_hat, method , prob , obbt = X, Y_g, K, D, tree_w, objv_w, alp, L_hat, LB_method, true, false\n",
    "\n",
    "val=0\n",
    "time_lapse::Int64=14400"
   ]
  },
  {
   "cell_type": "code",
   "execution_count": null,
   "metadata": {},
   "outputs": [],
   "source": [
    "p, n_all = size(X);\n",
    "alpha_s = alpha/n_all;\n",
    "sortX = sort(X, dims=2) # sorted on each feature used in lb_func\n",
    "eps = vec(mapslices(opt_func.mini_dist, sortX, dims=2)) # eps used in opt_func"
   ]
  },
  {
   "cell_type": "code",
   "execution_count": null,
   "metadata": {},
   "outputs": [],
   "source": [
    "p = parallel.bcast(p)\n",
    "n_all = parallel.bcast(n_all)\n",
    "alpha_s = parallel.bcast(alpha_s)\n",
    "eps = parallel.bcast(eps)"
   ]
  },
  {
   "cell_type": "code",
   "execution_count": null,
   "metadata": {},
   "outputs": [],
   "source": [
    "UB = UB_init;\n",
    "max_LB = 1e15; # used to save the best lower bound at the end (smallest but within the mingap)\n"
   ]
  },
  {
   "cell_type": "code",
   "execution_count": null,
   "metadata": {},
   "outputs": [],
   "source": [
    "~, ~, X_proc, Y_proc, node, tree = groups.proc_data_preparation(X, Y, p, n_all, K, D, warm_start, method, false, 0, val)"
   ]
  },
  {
   "cell_type": "code",
   "execution_count": null,
   "metadata": {},
   "outputs": [],
   "source": []
  }
 ],
 "metadata": {
  "kernelspec": {
   "display_name": "Julia 1.9.3",
   "language": "julia",
   "name": "julia-1.9"
  },
  "language_info": {
   "file_extension": ".jl",
   "mimetype": "application/julia",
   "name": "julia",
   "version": "1.9.3"
  }
 },
 "nbformat": 4,
 "nbformat_minor": 2
}
